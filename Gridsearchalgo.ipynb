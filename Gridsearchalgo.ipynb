{
 "cells": [
  {
   "cell_type": "code",
   "execution_count": null,
   "metadata": {},
   "outputs": [],
   "source": [
    "#ForLearningCurve\n",
    "def load_datas(test_size=0.15):\n",
    "    x,y=[],[]\n",
    "    global c\n",
    "    for file in glob.glob(\"C:\\\\Users\\\\hp\\\\Documents\\\\Study Material\\\\OE-DM\\\\Speech-Emotion-Recogniser\\\\speech-emotion-recognition-ravdess-data\\\\Actor_*\\\\*.wav\"):\n",
    "        file_name=os.path.basename(file)\n",
    "        emotion=emotions[file_name.split(\"-\")[2]]\n",
    "        if emotion not in observed_emotions:\n",
    "            continue\n",
    "        intensity = file_name.split(\"-\")[3]\n",
    "        gender= file_name.split(\"-\")[6]\n",
    "        feature=extract_feature(file, mfcc=True, chroma=True, mel=True)\n",
    "        x.append(feature)\n",
    "        y.append(emotion)\n",
    "        c=c+1\n",
    "    return (np.array(x),y)"
   ]
  },
  {
   "cell_type": "code",
   "execution_count": null,
   "metadata": {},
   "outputs": [],
   "source": [
    "X,Y= load_datas(test_size=0.15)\n",
    "\n",
    "param_grid = [\n",
    "        {\n",
    "            'activation' : ['identity', 'logistic', 'tanh', 'relu'],\n",
    "            'solver' : ['lbfgs', 'sgd', 'adam'],\n",
    "            'hidden_layer_sizes': [\n",
    "             (100,),(200,),(300,),(400,),(500,)\n",
    "             ]\n",
    "        }\n",
    "       ]\n",
    "\n",
    "\n",
    "clf = GridSearchCV(MLPClassifier(), param_grid, cv=5,\n",
    "                           scoring='accuracy')\n",
    "clf.fit(X,Y)\n",
    "\n",
    "\n",
    "print(\"Best parameters set found on development set:\")\n",
    "print(clf.best_params_)"
   ]
  },
  {
   "cell_type": "code",
   "execution_count": null,
   "metadata": {},
   "outputs": [],
   "source": [
    "Best parameters set found on development set:\n",
    "{'activation': 'logistic', 'hidden_layer_sizes': (500,), 'solver': 'adam'}"
   ]
  }
 ],
 "metadata": {
  "kernelspec": {
   "display_name": "Python 3",
   "language": "python",
   "name": "python3"
  },
  "language_info": {
   "codemirror_mode": {
    "name": "ipython",
    "version": 3
   },
   "file_extension": ".py",
   "mimetype": "text/x-python",
   "name": "python",
   "nbconvert_exporter": "python",
   "pygments_lexer": "ipython3",
   "version": "3.7.7"
  }
 },
 "nbformat": 4,
 "nbformat_minor": 4
}
